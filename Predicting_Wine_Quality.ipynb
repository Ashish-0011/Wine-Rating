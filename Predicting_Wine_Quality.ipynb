{
 "cells": [
  {
   "cell_type": "code",
   "execution_count": 1,
   "metadata": {},
   "outputs": [],
   "source": [
    "import numpy as np\n",
    "import pandas as pd\n",
    "import matplotlib.pyplot as plt\n",
    "import seaborn as sns\n",
    "from sklearn.model_selection import train_test_split\n",
    "from sklearn.preprocessing import StandardScaler\n",
    "from sklearn.model_selection import cross_val_score\n",
    "from sklearn.model_selection import KFold\n",
    "from sklearn.ensemble import RandomForestClassifier\n",
    "from sklearn import metrics\n",
    "from sklearn.metrics import accuracy_score\n",
    "from sklearn.model_selection import GridSearchCV\n",
    "from sklearn.metrics import roc_curve, auc\n",
    "from sklearn.metrics import confusion_matrix\n",
    "from sklearn.ensemble import AdaBoostClassifier\n",
    "from sklearn.tree import DecisionTreeClassifier"
   ]
  },
  {
   "cell_type": "code",
   "execution_count": 2,
   "metadata": {},
   "outputs": [
    {
     "data": {
      "text/html": [
       "<div>\n",
       "<style scoped>\n",
       "    .dataframe tbody tr th:only-of-type {\n",
       "        vertical-align: middle;\n",
       "    }\n",
       "\n",
       "    .dataframe tbody tr th {\n",
       "        vertical-align: top;\n",
       "    }\n",
       "\n",
       "    .dataframe thead th {\n",
       "        text-align: right;\n",
       "    }\n",
       "</style>\n",
       "<table border=\"1\" class=\"dataframe\">\n",
       "  <thead>\n",
       "    <tr style=\"text-align: right;\">\n",
       "      <th></th>\n",
       "      <th>fixed acidity</th>\n",
       "      <th>volatile acidity</th>\n",
       "      <th>citric acid</th>\n",
       "      <th>residual sugar</th>\n",
       "      <th>chlorides</th>\n",
       "      <th>free sulfur dioxide</th>\n",
       "      <th>total sulfur dioxide</th>\n",
       "      <th>density</th>\n",
       "      <th>pH</th>\n",
       "      <th>sulphates</th>\n",
       "      <th>alcohol</th>\n",
       "      <th>quality</th>\n",
       "    </tr>\n",
       "  </thead>\n",
       "  <tbody>\n",
       "    <tr>\n",
       "      <th>0</th>\n",
       "      <td>7.4</td>\n",
       "      <td>0.700</td>\n",
       "      <td>0.00</td>\n",
       "      <td>1.9</td>\n",
       "      <td>0.076</td>\n",
       "      <td>11.0</td>\n",
       "      <td>34.0</td>\n",
       "      <td>0.99780</td>\n",
       "      <td>3.51</td>\n",
       "      <td>0.56</td>\n",
       "      <td>9.4</td>\n",
       "      <td>5</td>\n",
       "    </tr>\n",
       "    <tr>\n",
       "      <th>1</th>\n",
       "      <td>7.8</td>\n",
       "      <td>0.880</td>\n",
       "      <td>0.00</td>\n",
       "      <td>2.6</td>\n",
       "      <td>0.098</td>\n",
       "      <td>25.0</td>\n",
       "      <td>67.0</td>\n",
       "      <td>0.99680</td>\n",
       "      <td>3.20</td>\n",
       "      <td>0.68</td>\n",
       "      <td>9.8</td>\n",
       "      <td>5</td>\n",
       "    </tr>\n",
       "    <tr>\n",
       "      <th>2</th>\n",
       "      <td>7.8</td>\n",
       "      <td>0.760</td>\n",
       "      <td>0.04</td>\n",
       "      <td>2.3</td>\n",
       "      <td>0.092</td>\n",
       "      <td>15.0</td>\n",
       "      <td>54.0</td>\n",
       "      <td>0.99700</td>\n",
       "      <td>3.26</td>\n",
       "      <td>0.65</td>\n",
       "      <td>9.8</td>\n",
       "      <td>5</td>\n",
       "    </tr>\n",
       "    <tr>\n",
       "      <th>3</th>\n",
       "      <td>11.2</td>\n",
       "      <td>0.280</td>\n",
       "      <td>0.56</td>\n",
       "      <td>1.9</td>\n",
       "      <td>0.075</td>\n",
       "      <td>17.0</td>\n",
       "      <td>60.0</td>\n",
       "      <td>0.99800</td>\n",
       "      <td>3.16</td>\n",
       "      <td>0.58</td>\n",
       "      <td>9.8</td>\n",
       "      <td>6</td>\n",
       "    </tr>\n",
       "    <tr>\n",
       "      <th>4</th>\n",
       "      <td>7.4</td>\n",
       "      <td>0.700</td>\n",
       "      <td>0.00</td>\n",
       "      <td>1.9</td>\n",
       "      <td>0.076</td>\n",
       "      <td>11.0</td>\n",
       "      <td>34.0</td>\n",
       "      <td>0.99780</td>\n",
       "      <td>3.51</td>\n",
       "      <td>0.56</td>\n",
       "      <td>9.4</td>\n",
       "      <td>5</td>\n",
       "    </tr>\n",
       "    <tr>\n",
       "      <th>...</th>\n",
       "      <td>...</td>\n",
       "      <td>...</td>\n",
       "      <td>...</td>\n",
       "      <td>...</td>\n",
       "      <td>...</td>\n",
       "      <td>...</td>\n",
       "      <td>...</td>\n",
       "      <td>...</td>\n",
       "      <td>...</td>\n",
       "      <td>...</td>\n",
       "      <td>...</td>\n",
       "      <td>...</td>\n",
       "    </tr>\n",
       "    <tr>\n",
       "      <th>1594</th>\n",
       "      <td>6.2</td>\n",
       "      <td>0.600</td>\n",
       "      <td>0.08</td>\n",
       "      <td>2.0</td>\n",
       "      <td>0.090</td>\n",
       "      <td>32.0</td>\n",
       "      <td>44.0</td>\n",
       "      <td>0.99490</td>\n",
       "      <td>3.45</td>\n",
       "      <td>0.58</td>\n",
       "      <td>10.5</td>\n",
       "      <td>5</td>\n",
       "    </tr>\n",
       "    <tr>\n",
       "      <th>1595</th>\n",
       "      <td>5.9</td>\n",
       "      <td>0.550</td>\n",
       "      <td>0.10</td>\n",
       "      <td>2.2</td>\n",
       "      <td>0.062</td>\n",
       "      <td>39.0</td>\n",
       "      <td>51.0</td>\n",
       "      <td>0.99512</td>\n",
       "      <td>3.52</td>\n",
       "      <td>0.76</td>\n",
       "      <td>11.2</td>\n",
       "      <td>6</td>\n",
       "    </tr>\n",
       "    <tr>\n",
       "      <th>1596</th>\n",
       "      <td>6.3</td>\n",
       "      <td>0.510</td>\n",
       "      <td>0.13</td>\n",
       "      <td>2.3</td>\n",
       "      <td>0.076</td>\n",
       "      <td>29.0</td>\n",
       "      <td>40.0</td>\n",
       "      <td>0.99574</td>\n",
       "      <td>3.42</td>\n",
       "      <td>0.75</td>\n",
       "      <td>11.0</td>\n",
       "      <td>6</td>\n",
       "    </tr>\n",
       "    <tr>\n",
       "      <th>1597</th>\n",
       "      <td>5.9</td>\n",
       "      <td>0.645</td>\n",
       "      <td>0.12</td>\n",
       "      <td>2.0</td>\n",
       "      <td>0.075</td>\n",
       "      <td>32.0</td>\n",
       "      <td>44.0</td>\n",
       "      <td>0.99547</td>\n",
       "      <td>3.57</td>\n",
       "      <td>0.71</td>\n",
       "      <td>10.2</td>\n",
       "      <td>5</td>\n",
       "    </tr>\n",
       "    <tr>\n",
       "      <th>1598</th>\n",
       "      <td>6.0</td>\n",
       "      <td>0.310</td>\n",
       "      <td>0.47</td>\n",
       "      <td>3.6</td>\n",
       "      <td>0.067</td>\n",
       "      <td>18.0</td>\n",
       "      <td>42.0</td>\n",
       "      <td>0.99549</td>\n",
       "      <td>3.39</td>\n",
       "      <td>0.66</td>\n",
       "      <td>11.0</td>\n",
       "      <td>6</td>\n",
       "    </tr>\n",
       "  </tbody>\n",
       "</table>\n",
       "<p>1599 rows × 12 columns</p>\n",
       "</div>"
      ],
      "text/plain": [
       "      fixed acidity  volatile acidity  citric acid  residual sugar  chlorides  \\\n",
       "0               7.4             0.700         0.00             1.9      0.076   \n",
       "1               7.8             0.880         0.00             2.6      0.098   \n",
       "2               7.8             0.760         0.04             2.3      0.092   \n",
       "3              11.2             0.280         0.56             1.9      0.075   \n",
       "4               7.4             0.700         0.00             1.9      0.076   \n",
       "...             ...               ...          ...             ...        ...   \n",
       "1594            6.2             0.600         0.08             2.0      0.090   \n",
       "1595            5.9             0.550         0.10             2.2      0.062   \n",
       "1596            6.3             0.510         0.13             2.3      0.076   \n",
       "1597            5.9             0.645         0.12             2.0      0.075   \n",
       "1598            6.0             0.310         0.47             3.6      0.067   \n",
       "\n",
       "      free sulfur dioxide  total sulfur dioxide  density    pH  sulphates  \\\n",
       "0                    11.0                  34.0  0.99780  3.51       0.56   \n",
       "1                    25.0                  67.0  0.99680  3.20       0.68   \n",
       "2                    15.0                  54.0  0.99700  3.26       0.65   \n",
       "3                    17.0                  60.0  0.99800  3.16       0.58   \n",
       "4                    11.0                  34.0  0.99780  3.51       0.56   \n",
       "...                   ...                   ...      ...   ...        ...   \n",
       "1594                 32.0                  44.0  0.99490  3.45       0.58   \n",
       "1595                 39.0                  51.0  0.99512  3.52       0.76   \n",
       "1596                 29.0                  40.0  0.99574  3.42       0.75   \n",
       "1597                 32.0                  44.0  0.99547  3.57       0.71   \n",
       "1598                 18.0                  42.0  0.99549  3.39       0.66   \n",
       "\n",
       "      alcohol  quality  \n",
       "0         9.4        5  \n",
       "1         9.8        5  \n",
       "2         9.8        5  \n",
       "3         9.8        6  \n",
       "4         9.4        5  \n",
       "...       ...      ...  \n",
       "1594     10.5        5  \n",
       "1595     11.2        6  \n",
       "1596     11.0        6  \n",
       "1597     10.2        5  \n",
       "1598     11.0        6  \n",
       "\n",
       "[1599 rows x 12 columns]"
      ]
     },
     "execution_count": 2,
     "metadata": {},
     "output_type": "execute_result"
    }
   ],
   "source": [
    "# reading the data \n",
    "# printing to get an idea about dependent and independent variables\n",
    "data = pd.read_csv(\"QualityPrediction.csv\")\n",
    "data"
   ]
  },
  {
   "cell_type": "markdown",
   "metadata": {},
   "source": [
    "## Data Statistics and Information"
   ]
  },
  {
   "cell_type": "code",
   "execution_count": 3,
   "metadata": {},
   "outputs": [
    {
     "name": "stdout",
     "output_type": "stream",
     "text": [
      "<class 'pandas.core.frame.DataFrame'>\n",
      "RangeIndex: 1599 entries, 0 to 1598\n",
      "Data columns (total 12 columns):\n",
      " #   Column                Non-Null Count  Dtype  \n",
      "---  ------                --------------  -----  \n",
      " 0   fixed acidity         1599 non-null   float64\n",
      " 1   volatile acidity      1599 non-null   float64\n",
      " 2   citric acid           1599 non-null   float64\n",
      " 3   residual sugar        1599 non-null   float64\n",
      " 4   chlorides             1599 non-null   float64\n",
      " 5   free sulfur dioxide   1599 non-null   float64\n",
      " 6   total sulfur dioxide  1599 non-null   float64\n",
      " 7   density               1599 non-null   float64\n",
      " 8   pH                    1599 non-null   float64\n",
      " 9   sulphates             1599 non-null   float64\n",
      " 10  alcohol               1599 non-null   float64\n",
      " 11  quality               1599 non-null   int64  \n",
      "dtypes: float64(11), int64(1)\n",
      "memory usage: 150.0 KB\n"
     ]
    }
   ],
   "source": [
    "# Extractung the basic information about the data\n",
    "data.info()"
   ]
  },
  {
   "cell_type": "code",
   "execution_count": 4,
   "metadata": {},
   "outputs": [
    {
     "data": {
      "text/html": [
       "<div>\n",
       "<style scoped>\n",
       "    .dataframe tbody tr th:only-of-type {\n",
       "        vertical-align: middle;\n",
       "    }\n",
       "\n",
       "    .dataframe tbody tr th {\n",
       "        vertical-align: top;\n",
       "    }\n",
       "\n",
       "    .dataframe thead th {\n",
       "        text-align: right;\n",
       "    }\n",
       "</style>\n",
       "<table border=\"1\" class=\"dataframe\">\n",
       "  <thead>\n",
       "    <tr style=\"text-align: right;\">\n",
       "      <th></th>\n",
       "      <th>fixed acidity</th>\n",
       "      <th>volatile acidity</th>\n",
       "      <th>citric acid</th>\n",
       "      <th>residual sugar</th>\n",
       "      <th>chlorides</th>\n",
       "      <th>free sulfur dioxide</th>\n",
       "      <th>total sulfur dioxide</th>\n",
       "      <th>density</th>\n",
       "      <th>pH</th>\n",
       "      <th>sulphates</th>\n",
       "      <th>alcohol</th>\n",
       "      <th>quality</th>\n",
       "    </tr>\n",
       "  </thead>\n",
       "  <tbody>\n",
       "    <tr>\n",
       "      <th>count</th>\n",
       "      <td>1599.000000</td>\n",
       "      <td>1599.000000</td>\n",
       "      <td>1599.000000</td>\n",
       "      <td>1599.000000</td>\n",
       "      <td>1599.000000</td>\n",
       "      <td>1599.000000</td>\n",
       "      <td>1599.000000</td>\n",
       "      <td>1599.000000</td>\n",
       "      <td>1599.000000</td>\n",
       "      <td>1599.000000</td>\n",
       "      <td>1599.000000</td>\n",
       "      <td>1599.000000</td>\n",
       "    </tr>\n",
       "    <tr>\n",
       "      <th>mean</th>\n",
       "      <td>8.319637</td>\n",
       "      <td>0.527821</td>\n",
       "      <td>0.270976</td>\n",
       "      <td>2.538806</td>\n",
       "      <td>0.087467</td>\n",
       "      <td>15.874922</td>\n",
       "      <td>46.467792</td>\n",
       "      <td>0.996747</td>\n",
       "      <td>3.311113</td>\n",
       "      <td>0.658149</td>\n",
       "      <td>10.422983</td>\n",
       "      <td>5.636023</td>\n",
       "    </tr>\n",
       "    <tr>\n",
       "      <th>std</th>\n",
       "      <td>1.741096</td>\n",
       "      <td>0.179060</td>\n",
       "      <td>0.194801</td>\n",
       "      <td>1.409928</td>\n",
       "      <td>0.047065</td>\n",
       "      <td>10.460157</td>\n",
       "      <td>32.895324</td>\n",
       "      <td>0.001887</td>\n",
       "      <td>0.154386</td>\n",
       "      <td>0.169507</td>\n",
       "      <td>1.065668</td>\n",
       "      <td>0.807569</td>\n",
       "    </tr>\n",
       "    <tr>\n",
       "      <th>min</th>\n",
       "      <td>4.600000</td>\n",
       "      <td>0.120000</td>\n",
       "      <td>0.000000</td>\n",
       "      <td>0.900000</td>\n",
       "      <td>0.012000</td>\n",
       "      <td>1.000000</td>\n",
       "      <td>6.000000</td>\n",
       "      <td>0.990070</td>\n",
       "      <td>2.740000</td>\n",
       "      <td>0.330000</td>\n",
       "      <td>8.400000</td>\n",
       "      <td>3.000000</td>\n",
       "    </tr>\n",
       "    <tr>\n",
       "      <th>25%</th>\n",
       "      <td>7.100000</td>\n",
       "      <td>0.390000</td>\n",
       "      <td>0.090000</td>\n",
       "      <td>1.900000</td>\n",
       "      <td>0.070000</td>\n",
       "      <td>7.000000</td>\n",
       "      <td>22.000000</td>\n",
       "      <td>0.995600</td>\n",
       "      <td>3.210000</td>\n",
       "      <td>0.550000</td>\n",
       "      <td>9.500000</td>\n",
       "      <td>5.000000</td>\n",
       "    </tr>\n",
       "    <tr>\n",
       "      <th>50%</th>\n",
       "      <td>7.900000</td>\n",
       "      <td>0.520000</td>\n",
       "      <td>0.260000</td>\n",
       "      <td>2.200000</td>\n",
       "      <td>0.079000</td>\n",
       "      <td>14.000000</td>\n",
       "      <td>38.000000</td>\n",
       "      <td>0.996750</td>\n",
       "      <td>3.310000</td>\n",
       "      <td>0.620000</td>\n",
       "      <td>10.200000</td>\n",
       "      <td>6.000000</td>\n",
       "    </tr>\n",
       "    <tr>\n",
       "      <th>75%</th>\n",
       "      <td>9.200000</td>\n",
       "      <td>0.640000</td>\n",
       "      <td>0.420000</td>\n",
       "      <td>2.600000</td>\n",
       "      <td>0.090000</td>\n",
       "      <td>21.000000</td>\n",
       "      <td>62.000000</td>\n",
       "      <td>0.997835</td>\n",
       "      <td>3.400000</td>\n",
       "      <td>0.730000</td>\n",
       "      <td>11.100000</td>\n",
       "      <td>6.000000</td>\n",
       "    </tr>\n",
       "    <tr>\n",
       "      <th>max</th>\n",
       "      <td>15.900000</td>\n",
       "      <td>1.580000</td>\n",
       "      <td>1.000000</td>\n",
       "      <td>15.500000</td>\n",
       "      <td>0.611000</td>\n",
       "      <td>72.000000</td>\n",
       "      <td>289.000000</td>\n",
       "      <td>1.003690</td>\n",
       "      <td>4.010000</td>\n",
       "      <td>2.000000</td>\n",
       "      <td>14.900000</td>\n",
       "      <td>8.000000</td>\n",
       "    </tr>\n",
       "  </tbody>\n",
       "</table>\n",
       "</div>"
      ],
      "text/plain": [
       "       fixed acidity  volatile acidity  citric acid  residual sugar  \\\n",
       "count    1599.000000       1599.000000  1599.000000     1599.000000   \n",
       "mean        8.319637          0.527821     0.270976        2.538806   \n",
       "std         1.741096          0.179060     0.194801        1.409928   \n",
       "min         4.600000          0.120000     0.000000        0.900000   \n",
       "25%         7.100000          0.390000     0.090000        1.900000   \n",
       "50%         7.900000          0.520000     0.260000        2.200000   \n",
       "75%         9.200000          0.640000     0.420000        2.600000   \n",
       "max        15.900000          1.580000     1.000000       15.500000   \n",
       "\n",
       "         chlorides  free sulfur dioxide  total sulfur dioxide      density  \\\n",
       "count  1599.000000          1599.000000           1599.000000  1599.000000   \n",
       "mean      0.087467            15.874922             46.467792     0.996747   \n",
       "std       0.047065            10.460157             32.895324     0.001887   \n",
       "min       0.012000             1.000000              6.000000     0.990070   \n",
       "25%       0.070000             7.000000             22.000000     0.995600   \n",
       "50%       0.079000            14.000000             38.000000     0.996750   \n",
       "75%       0.090000            21.000000             62.000000     0.997835   \n",
       "max       0.611000            72.000000            289.000000     1.003690   \n",
       "\n",
       "                pH    sulphates      alcohol      quality  \n",
       "count  1599.000000  1599.000000  1599.000000  1599.000000  \n",
       "mean      3.311113     0.658149    10.422983     5.636023  \n",
       "std       0.154386     0.169507     1.065668     0.807569  \n",
       "min       2.740000     0.330000     8.400000     3.000000  \n",
       "25%       3.210000     0.550000     9.500000     5.000000  \n",
       "50%       3.310000     0.620000    10.200000     6.000000  \n",
       "75%       3.400000     0.730000    11.100000     6.000000  \n",
       "max       4.010000     2.000000    14.900000     8.000000  "
      ]
     },
     "execution_count": 4,
     "metadata": {},
     "output_type": "execute_result"
    }
   ],
   "source": [
    "# Extraction of statistics of the dataset\n",
    "data.describe()"
   ]
  },
  {
   "cell_type": "code",
   "execution_count": 5,
   "metadata": {},
   "outputs": [
    {
     "data": {
      "text/plain": [
       "fixed acidity           0\n",
       "volatile acidity        0\n",
       "citric acid             0\n",
       "residual sugar          0\n",
       "chlorides               0\n",
       "free sulfur dioxide     0\n",
       "total sulfur dioxide    0\n",
       "density                 0\n",
       "pH                      0\n",
       "sulphates               0\n",
       "alcohol                 0\n",
       "quality                 0\n",
       "dtype: int64"
      ]
     },
     "execution_count": 5,
     "metadata": {},
     "output_type": "execute_result"
    }
   ],
   "source": [
    "#Checking if any column as NA values\n",
    "data.isna().sum()\n"
   ]
  },
  {
   "cell_type": "markdown",
   "metadata": {
    "scrolled": true
   },
   "source": [
    "## Feature Selection and Outlier Treatment"
   ]
  },
  {
   "cell_type": "code",
   "execution_count": 6,
   "metadata": {},
   "outputs": [
    {
     "data": {
      "image/png": "[encoded data removed]",
      "text/plain": [
       "<Figure size 792x432 with 2 Axes>"
      ]
     },
     "metadata": {
      "needs_background": "light"
     },
     "output_type": "display_data"
    }
   ],
   "source": [
    "# Plotting Correlation among all of the variables\n",
    "f,ax = plt.subplots(figsize=(11, 6))\n",
    "sns.diverging_palette(250, 30, l=65, center=\"dark\", as_cmap=True)\n",
    "\n",
    "ax = sns.heatmap(data.corr(), annot = True, center = 0)\n",
    "loc = \"/home/ashish/Learnbay_python_classes/Stats and ML/Machine Learning/Capstone Project/\"\n",
    "fout = loc + \"corr.png\"\n",
    "#plt.savefig(fout , dpi =150, bbox_inches='tight', facecolor = 'white')\n"
   ]
  },
  {
   "cell_type": "code",
   "execution_count": 7,
   "metadata": {},
   "outputs": [
    {
     "data": {
      "image/png": "[encoded data removed]",
      "text/plain": [
       "<Figure size 792x432 with 2 Axes>"
      ]
     },
     "metadata": {
      "needs_background": "light"
     },
     "output_type": "display_data"
    }
   ],
   "source": [
    "# Slicing the correlation data with correlation more than 20%\n",
    "# Plotting the sliced data\n",
    "f,ax = plt.subplots(figsize=(11, 6))\n",
    "corr = data.corr()\n",
    "corr = corr[(corr>0.2)|(corr<-0.2)]\n",
    "ax = sns.heatmap(corr, annot = True, center =0)\n",
    "#plt.savefig(loc + \"selective_corr\" , dpi =150, bbox_inches='tight', facecolor = 'white')\n"
   ]
  },
  {
   "cell_type": "markdown",
   "metadata": {},
   "source": [
    "### One can obsevre the most correlated variables are:\n",
    "- volatile acidity : -0.39\n",
    "- citric acidity : 0.23\n",
    "- sulphates : 0.25\n",
    "- alcohol : 0.48\n"
   ]
  },
  {
   "cell_type": "code",
   "execution_count": 8,
   "metadata": {},
   "outputs": [
    {
     "data": {
      "text/plain": [
       "0.73"
      ]
     },
     "execution_count": 8,
     "metadata": {},
     "output_type": "execute_result"
    },
    {
     "data": {
      "image/png": "[encoded data removed]",
      "text/plain": [
       "<Figure size 720x432 with 1 Axes>"
      ]
     },
     "metadata": {
      "needs_background": "light"
     },
     "output_type": "display_data"
    }
   ],
   "source": [
    "# Box plot for sulphates varibales\n",
    "plt.figure(figsize=(10,6))\n",
    "data.loc[:,\"sulphates\"].plot(kind = 'box')\n",
    "data.loc[:,\"sulphates\"].describe()['75%']"
   ]
  },
  {
   "cell_type": "code",
   "execution_count": 9,
   "metadata": {},
   "outputs": [
    {
     "data": {
      "text/plain": [
       "<AxesSubplot:>"
      ]
     },
     "execution_count": 9,
     "metadata": {},
     "output_type": "execute_result"
    },
    {
     "data": {
      "image/png": "[encoded data removed]",
      "text/plain": [
       "<Figure size 720x432 with 1 Axes>"
      ]
     },
     "metadata": {
      "needs_background": "light"
     },
     "output_type": "display_data"
    }
   ],
   "source": [
    "# Box plot for \"citric acid\" varibales\n",
    "\n",
    "plt.figure(figsize=(10,6))\n",
    "data.loc[:,\"citric acid\"].plot(kind = 'box')\n"
   ]
  },
  {
   "cell_type": "code",
   "execution_count": 10,
   "metadata": {},
   "outputs": [
    {
     "data": {
      "text/plain": [
       "<AxesSubplot:>"
      ]
     },
     "execution_count": 10,
     "metadata": {},
     "output_type": "execute_result"
    },
    {
     "data": {
      "image/png": "[encoded data removed]",
      "text/plain": [
       "<Figure size 720x432 with 1 Axes>"
      ]
     },
     "metadata": {
      "needs_background": "light"
     },
     "output_type": "display_data"
    }
   ],
   "source": [
    "# Box plot for \"total sulfur dioxide\" varibales\n",
    "\n",
    "plt.figure(figsize=(10,6))\n",
    "data.loc[:,\"total sulfur dioxide\"].plot(kind = 'box')\n"
   ]
  },
  {
   "cell_type": "code",
   "execution_count": 11,
   "metadata": {},
   "outputs": [
    {
     "data": {
      "text/plain": [
       "<AxesSubplot:>"
      ]
     },
     "execution_count": 11,
     "metadata": {},
     "output_type": "execute_result"
    },
    {
     "data": {
      "image/png": "[encoded data removed]",
      "text/plain": [
       "<Figure size 720x432 with 1 Axes>"
      ]
     },
     "metadata": {
      "needs_background": "light"
     },
     "output_type": "display_data"
    }
   ],
   "source": [
    "# Box plot for \"quality\" varibales\n",
    "\n",
    "plt.figure(figsize=(10,6))\n",
    "data.quality.plot(kind='box')"
   ]
  },
  {
   "cell_type": "code",
   "execution_count": 12,
   "metadata": {},
   "outputs": [
    {
     "data": {
      "text/plain": [
       "0.64"
      ]
     },
     "execution_count": 12,
     "metadata": {},
     "output_type": "execute_result"
    },
    {
     "data": {
      "image/png": "[encoded data removed]",
      "text/plain": [
       "<Figure size 720x432 with 1 Axes>"
      ]
     },
     "metadata": {
      "needs_background": "light"
     },
     "output_type": "display_data"
    }
   ],
   "source": [
    "# Box plot for \"volatile acidity\" varibales\n",
    "\n",
    "plt.figure(figsize=(10,6))\n",
    "data.loc[:,\"volatile acidity\"].plot(kind = 'box')\n",
    "data.loc[:,\"volatile acidity\"].describe()['75%']"
   ]
  },
  {
   "cell_type": "code",
   "execution_count": 13,
   "metadata": {},
   "outputs": [
    {
     "data": {
      "text/plain": [
       "<AxesSubplot:>"
      ]
     },
     "execution_count": 13,
     "metadata": {},
     "output_type": "execute_result"
    },
    {
     "data": {
      "image/png": "[encoded data removed]",
      "text/plain": [
       "<Figure size 720x432 with 1 Axes>"
      ]
     },
     "metadata": {
      "needs_background": "light"
     },
     "output_type": "display_data"
    }
   ],
   "source": [
    "# Box plot for \"alcohol\" varibales\n",
    "\n",
    "plt.figure(figsize=(10,6))\n",
    "data.loc[:,\"alcohol\"].plot(kind = 'box')\n"
   ]
  },
  {
   "cell_type": "code",
   "execution_count": 14,
   "metadata": {},
   "outputs": [],
   "source": [
    "def outlier_treatment(data,col):\n",
    "    \"\"\"\n",
    "    Use this for outlier treatment of a particular column or varibale. \n",
    "    This code remove the whole row where outlier is present.\n",
    "    \n",
    "    data: The whole data set where outlier treatment will be done\n",
    "    col: The column or variable where outlier treatment needs to be done. \n",
    "         (Provide one column at a time and use that data in next outlier treatment)\n",
    "    \n",
    "    \n",
    "    \"\"\"\n",
    "    print(f\"Data shape before outlier treatment {np.shape(data)} \")\n",
    "    q3 = col.describe()[\"75%\"]\n",
    "    q2 = col.describe()[\"50%\"]\n",
    "    q1 = col.describe()[\"25%\"]\n",
    "    iqr = q3-q1\n",
    "    col = col.values\n",
    "\n",
    "    for i in range(len(col)):\n",
    "        row = list(data.axes[0])\n",
    "\n",
    "        if (col[i] > q3+ 1.5*iqr) or (col[i]< q1-1.5*iqr):\n",
    "            \n",
    "            if  i in row:\n",
    "            #print(i, col[i])\n",
    "                data.drop(i,axis =0, inplace = True) \n",
    "\n",
    "    print(f\"Data shape after outlier treatment {np.shape(data)} \")\n",
    "    return data\n"
   ]
  },
  {
   "cell_type": "code",
   "execution_count": 15,
   "metadata": {},
   "outputs": [
    {
     "name": "stdout",
     "output_type": "stream",
     "text": [
      "Data shape before outlier treatment (1599, 12) \n",
      "Data shape after outlier treatment (1580, 12) \n",
      "Data shape before outlier treatment (1580, 12) \n",
      "Data shape after outlier treatment (1567, 12) \n",
      "Data shape before outlier treatment (1567, 12) \n",
      "Data shape after outlier treatment (1542, 12) \n",
      "Data shape before outlier treatment (1542, 12) \n",
      "Data shape after outlier treatment (1487, 12) \n",
      "Data shape before outlier treatment (1487, 12) \n",
      "Data shape after outlier treatment (1449, 12) \n"
     ]
    },
    {
     "data": {
      "text/html": [
       "<div>\n",
       "<style scoped>\n",
       "    .dataframe tbody tr th:only-of-type {\n",
       "        vertical-align: middle;\n",
       "    }\n",
       "\n",
       "    .dataframe tbody tr th {\n",
       "        vertical-align: top;\n",
       "    }\n",
       "\n",
       "    .dataframe thead th {\n",
       "        text-align: right;\n",
       "    }\n",
       "</style>\n",
       "<table border=\"1\" class=\"dataframe\">\n",
       "  <thead>\n",
       "    <tr style=\"text-align: right;\">\n",
       "      <th></th>\n",
       "      <th>index</th>\n",
       "      <th>fixed acidity</th>\n",
       "      <th>volatile acidity</th>\n",
       "      <th>citric acid</th>\n",
       "      <th>residual sugar</th>\n",
       "      <th>chlorides</th>\n",
       "      <th>free sulfur dioxide</th>\n",
       "      <th>total sulfur dioxide</th>\n",
       "      <th>density</th>\n",
       "      <th>pH</th>\n",
       "      <th>sulphates</th>\n",
       "      <th>alcohol</th>\n",
       "      <th>quality</th>\n",
       "    </tr>\n",
       "  </thead>\n",
       "  <tbody>\n",
       "    <tr>\n",
       "      <th>0</th>\n",
       "      <td>0</td>\n",
       "      <td>7.4</td>\n",
       "      <td>0.700</td>\n",
       "      <td>0.00</td>\n",
       "      <td>1.9</td>\n",
       "      <td>0.076</td>\n",
       "      <td>11.0</td>\n",
       "      <td>34.0</td>\n",
       "      <td>0.99780</td>\n",
       "      <td>3.51</td>\n",
       "      <td>0.56</td>\n",
       "      <td>9.4</td>\n",
       "      <td>5</td>\n",
       "    </tr>\n",
       "    <tr>\n",
       "      <th>1</th>\n",
       "      <td>1</td>\n",
       "      <td>7.8</td>\n",
       "      <td>0.880</td>\n",
       "      <td>0.00</td>\n",
       "      <td>2.6</td>\n",
       "      <td>0.098</td>\n",
       "      <td>25.0</td>\n",
       "      <td>67.0</td>\n",
       "      <td>0.99680</td>\n",
       "      <td>3.20</td>\n",
       "      <td>0.68</td>\n",
       "      <td>9.8</td>\n",
       "      <td>5</td>\n",
       "    </tr>\n",
       "    <tr>\n",
       "      <th>2</th>\n",
       "      <td>2</td>\n",
       "      <td>7.8</td>\n",
       "      <td>0.760</td>\n",
       "      <td>0.04</td>\n",
       "      <td>2.3</td>\n",
       "      <td>0.092</td>\n",
       "      <td>15.0</td>\n",
       "      <td>54.0</td>\n",
       "      <td>0.99700</td>\n",
       "      <td>3.26</td>\n",
       "      <td>0.65</td>\n",
       "      <td>9.8</td>\n",
       "      <td>5</td>\n",
       "    </tr>\n",
       "    <tr>\n",
       "      <th>3</th>\n",
       "      <td>3</td>\n",
       "      <td>11.2</td>\n",
       "      <td>0.280</td>\n",
       "      <td>0.56</td>\n",
       "      <td>1.9</td>\n",
       "      <td>0.075</td>\n",
       "      <td>17.0</td>\n",
       "      <td>60.0</td>\n",
       "      <td>0.99800</td>\n",
       "      <td>3.16</td>\n",
       "      <td>0.58</td>\n",
       "      <td>9.8</td>\n",
       "      <td>6</td>\n",
       "    </tr>\n",
       "    <tr>\n",
       "      <th>4</th>\n",
       "      <td>4</td>\n",
       "      <td>7.4</td>\n",
       "      <td>0.700</td>\n",
       "      <td>0.00</td>\n",
       "      <td>1.9</td>\n",
       "      <td>0.076</td>\n",
       "      <td>11.0</td>\n",
       "      <td>34.0</td>\n",
       "      <td>0.99780</td>\n",
       "      <td>3.51</td>\n",
       "      <td>0.56</td>\n",
       "      <td>9.4</td>\n",
       "      <td>5</td>\n",
       "    </tr>\n",
       "    <tr>\n",
       "      <th>...</th>\n",
       "      <td>...</td>\n",
       "      <td>...</td>\n",
       "      <td>...</td>\n",
       "      <td>...</td>\n",
       "      <td>...</td>\n",
       "      <td>...</td>\n",
       "      <td>...</td>\n",
       "      <td>...</td>\n",
       "      <td>...</td>\n",
       "      <td>...</td>\n",
       "      <td>...</td>\n",
       "      <td>...</td>\n",
       "      <td>...</td>\n",
       "    </tr>\n",
       "    <tr>\n",
       "      <th>1444</th>\n",
       "      <td>1594</td>\n",
       "      <td>6.2</td>\n",
       "      <td>0.600</td>\n",
       "      <td>0.08</td>\n",
       "      <td>2.0</td>\n",
       "      <td>0.090</td>\n",
       "      <td>32.0</td>\n",
       "      <td>44.0</td>\n",
       "      <td>0.99490</td>\n",
       "      <td>3.45</td>\n",
       "      <td>0.58</td>\n",
       "      <td>10.5</td>\n",
       "      <td>5</td>\n",
       "    </tr>\n",
       "    <tr>\n",
       "      <th>1445</th>\n",
       "      <td>1595</td>\n",
       "      <td>5.9</td>\n",
       "      <td>0.550</td>\n",
       "      <td>0.10</td>\n",
       "      <td>2.2</td>\n",
       "      <td>0.062</td>\n",
       "      <td>39.0</td>\n",
       "      <td>51.0</td>\n",
       "      <td>0.99512</td>\n",
       "      <td>3.52</td>\n",
       "      <td>0.76</td>\n",
       "      <td>11.2</td>\n",
       "      <td>6</td>\n",
       "    </tr>\n",
       "    <tr>\n",
       "      <th>1446</th>\n",
       "      <td>1596</td>\n",
       "      <td>6.3</td>\n",
       "      <td>0.510</td>\n",
       "      <td>0.13</td>\n",
       "      <td>2.3</td>\n",
       "      <td>0.076</td>\n",
       "      <td>29.0</td>\n",
       "      <td>40.0</td>\n",
       "      <td>0.99574</td>\n",
       "      <td>3.42</td>\n",
       "      <td>0.75</td>\n",
       "      <td>11.0</td>\n",
       "      <td>6</td>\n",
       "    </tr>\n",
       "    <tr>\n",
       "      <th>1447</th>\n",
       "      <td>1597</td>\n",
       "      <td>5.9</td>\n",
       "      <td>0.645</td>\n",
       "      <td>0.12</td>\n",
       "      <td>2.0</td>\n",
       "      <td>0.075</td>\n",
       "      <td>32.0</td>\n",
       "      <td>44.0</td>\n",
       "      <td>0.99547</td>\n",
       "      <td>3.57</td>\n",
       "      <td>0.71</td>\n",
       "      <td>10.2</td>\n",
       "      <td>5</td>\n",
       "    </tr>\n",
       "    <tr>\n",
       "      <th>1448</th>\n",
       "      <td>1598</td>\n",
       "      <td>6.0</td>\n",
       "      <td>0.310</td>\n",
       "      <td>0.47</td>\n",
       "      <td>3.6</td>\n",
       "      <td>0.067</td>\n",
       "      <td>18.0</td>\n",
       "      <td>42.0</td>\n",
       "      <td>0.99549</td>\n",
       "      <td>3.39</td>\n",
       "      <td>0.66</td>\n",
       "      <td>11.0</td>\n",
       "      <td>6</td>\n",
       "    </tr>\n",
       "  </tbody>\n",
       "</table>\n",
       "<p>1449 rows × 13 columns</p>\n",
       "</div>"
      ],
      "text/plain": [
       "      index  fixed acidity  volatile acidity  citric acid  residual sugar  \\\n",
       "0         0            7.4             0.700         0.00             1.9   \n",
       "1         1            7.8             0.880         0.00             2.6   \n",
       "2         2            7.8             0.760         0.04             2.3   \n",
       "3         3           11.2             0.280         0.56             1.9   \n",
       "4         4            7.4             0.700         0.00             1.9   \n",
       "...     ...            ...               ...          ...             ...   \n",
       "1444   1594            6.2             0.600         0.08             2.0   \n",
       "1445   1595            5.9             0.550         0.10             2.2   \n",
       "1446   1596            6.3             0.510         0.13             2.3   \n",
       "1447   1597            5.9             0.645         0.12             2.0   \n",
       "1448   1598            6.0             0.310         0.47             3.6   \n",
       "\n",
       "      chlorides  free sulfur dioxide  total sulfur dioxide  density    pH  \\\n",
       "0         0.076                 11.0                  34.0  0.99780  3.51   \n",
       "1         0.098                 25.0                  67.0  0.99680  3.20   \n",
       "2         0.092                 15.0                  54.0  0.99700  3.26   \n",
       "3         0.075                 17.0                  60.0  0.99800  3.16   \n",
       "4         0.076                 11.0                  34.0  0.99780  3.51   \n",
       "...         ...                  ...                   ...      ...   ...   \n",
       "1444      0.090                 32.0                  44.0  0.99490  3.45   \n",
       "1445      0.062                 39.0                  51.0  0.99512  3.52   \n",
       "1446      0.076                 29.0                  40.0  0.99574  3.42   \n",
       "1447      0.075                 32.0                  44.0  0.99547  3.57   \n",
       "1448      0.067                 18.0                  42.0  0.99549  3.39   \n",
       "\n",
       "      sulphates  alcohol  quality  \n",
       "0          0.56      9.4        5  \n",
       "1          0.68      9.8        5  \n",
       "2          0.65      9.8        5  \n",
       "3          0.58      9.8        6  \n",
       "4          0.56      9.4        5  \n",
       "...         ...      ...      ...  \n",
       "1444       0.58     10.5        5  \n",
       "1445       0.76     11.2        6  \n",
       "1446       0.75     11.0        6  \n",
       "1447       0.71     10.2        5  \n",
       "1448       0.66     11.0        6  \n",
       "\n",
       "[1449 rows x 13 columns]"
      ]
     },
     "execution_count": 15,
     "metadata": {},
     "output_type": "execute_result"
    }
   ],
   "source": [
    "data1 = outlier_treatment(data,data.loc[::,'volatile acidity'])\n",
    "data2 = outlier_treatment(data1,data1.loc[::,'alcohol'])\n",
    "data3 = outlier_treatment(data2,data2.loc[::,'quality'])\n",
    "data4 = outlier_treatment(data3,data3.loc[::,'sulphates'])\n",
    "data5 = outlier_treatment(data4,data4.loc[::,'total sulfur dioxide'])\n",
    "#data6 = outlier_treatment(data5,data5.loc[::,'citric acid'])\n",
    "\n",
    "\n",
    "data5.reset_index()"
   ]
  },
  {
   "cell_type": "markdown",
   "metadata": {},
   "source": [
    "## Split Train and Test Data"
   ]
  },
  {
   "cell_type": "code",
   "execution_count": 16,
   "metadata": {},
   "outputs": [],
   "source": [
    "X = data5.loc[:,data5.columns != 'quality'].values\n",
    "Y = data5.loc[:,'quality']"
   ]
  },
  {
   "cell_type": "code",
   "execution_count": 43,
   "metadata": {},
   "outputs": [],
   "source": [
    "X2 = data5.loc[:,['volatile acidity','alcohol']].values\n",
    "X1 = data5.loc[:,['volatile acidity','sulphates', 'citric acid', 'alcohol']].values"
   ]
  },
  {
   "cell_type": "code",
   "execution_count": 44,
   "metadata": {},
   "outputs": [],
   "source": [
    "from sklearn.preprocessing import StandardScaler\n",
    "std_scaler = StandardScaler()\n",
    "x = std_scaler.fit_transform(X)\n"
   ]
  },
  {
   "cell_type": "code",
   "execution_count": 45,
   "metadata": {},
   "outputs": [],
   "source": [
    "x1 = std_scaler.fit_transform(X1)\n",
    "x2 = std_scaler.fit_transform(X2)"
   ]
  },
  {
   "cell_type": "code",
   "execution_count": 46,
   "metadata": {},
   "outputs": [],
   "source": [
    "xtrain, xtest, ytrain, ytest = train_test_split(x,Y,test_size=0.20,random_state=40)\n"
   ]
  },
  {
   "cell_type": "code",
   "execution_count": 47,
   "metadata": {},
   "outputs": [],
   "source": [
    "xtrain1, xtest1, ytrain1, ytest1 = train_test_split(x1,Y,test_size=0.20,random_state=40)\n",
    "xtrain2, xtest2, ytrain2, ytest2 = train_test_split(x2,Y,test_size=0.20,random_state=40)\n"
   ]
  },
  {
   "cell_type": "code",
   "execution_count": 48,
   "metadata": {},
   "outputs": [
    {
     "name": "stdout",
     "output_type": "stream",
     "text": [
      "[6 6 5 6 5 7 5 7 5 7 6 5 6 6 6 4 5 8 5 5 6 6 5 6 5 6 4 5 7 5 6 6 5 6 5 5 7\n",
      " 6 5 5 6 6 5 6 5 5 5 8 5 5 5 5 5 6 5 5 5 7 6 5 5 6 6 6 4 5 5 5 7 6 5 5 5 5\n",
      " 6 6 6 6 4 6 7 5 5 6 5 6 6 7 5 6 6 5 5 5 6 6 5 7 5 5 5 6 7 6 6 6 5 4 6 5 6\n",
      " 5 6 6 6 5 6 5 7 6 7 6 5 6 5 6 6 5 5 7 6 5 6 5 6 5 6 6 5 5 5 5 7 5 4 4 5 5\n",
      " 4 7 6 5 6 5 6 7 6 7 7 5 6 5 6 5 5 5 5 5 5 6 7 6 6 5 5 6 5 6 7 5 6 6 6 6 6\n",
      " 6 5 5 5 6 7 5 6 6 6 7 6 6 7 7 6 6 6 7 5 5 5 5 5 6 5 5 5 6 6 5 6 5 5 5 6 6\n",
      " 6 5 5 7 6 6 6 6 6 6 4 5 6 6 5 6 7 7 5 7 6 6 7 5 6 5 5 7 6 6 5 4 5 5 8 4 4\n",
      " 6 6 6 6 5 5 5 6 5 6 6 5 6 5 6 6 5 5 6 5 5 6 6 6 6 5 7 5 5 6 6]\n"
     ]
    }
   ],
   "source": [
    "ytrain = ytrain.values.flatten()\n",
    "ytest = ytest.values.flatten()\n",
    "\n",
    "ytrain1 = ytrain1.values.flatten()\n",
    "ytest1 = ytest1.values.flatten()\n",
    "\n",
    "ytrain2 = ytrain2.values.flatten()\n",
    "ytest2 = ytest2.values.flatten()\n",
    "print(ytest)"
   ]
  },
  {
   "cell_type": "markdown",
   "metadata": {},
   "source": [
    "# Random Forest Classifier\n"
   ]
  },
  {
   "cell_type": "code",
   "execution_count": 49,
   "metadata": {},
   "outputs": [],
   "source": [
    "# Using random forest classifier \n",
    "model = RandomForestClassifier(random_state=2)\n",
    "model1 = RandomForestClassifier(random_state=3)\n",
    "model2 = RandomForestClassifier(random_state=4)\n",
    "\n"
   ]
  },
  {
   "cell_type": "markdown",
   "metadata": {},
   "source": [
    "## Without Hyperparameter Tuning"
   ]
  },
  {
   "cell_type": "markdown",
   "metadata": {},
   "source": [
    "### All Features"
   ]
  },
  {
   "cell_type": "code",
   "execution_count": 50,
   "metadata": {
    "scrolled": true
   },
   "outputs": [
    {
     "name": "stdout",
     "output_type": "stream",
     "text": [
      "Results without hyperparameter tuning\n",
      "Mean squared error 0.3758620689655172\n",
      "R2 Score 0.3789905895758433\n",
      "Accuracy of model 0.7241379310344828\n"
     ]
    }
   ],
   "source": [
    "# without any hyperparamter trying to check the accuracy of the model\n",
    "model.fit(xtrain, ytrain)\n",
    "ypred = model.predict(xtest)\n",
    "score = model.score(xtest, ytest)\n",
    "print(\"Results without hyperparameter tuning\")\n",
    "print(f\"Mean squared error {metrics.mean_squared_error(ytest, ypred)}\")\n",
    "print(f\"R2 Score {metrics.r2_score(ytest, ypred)}\")\n",
    "print(f\"Accuracy of model {model.score(xtest, ytest)}\")\n",
    "    "
   ]
  },
  {
   "cell_type": "markdown",
   "metadata": {},
   "source": [
    "### Feature 1:  'volatile acidity','sulphates', 'citric acid', 'alcohol'"
   ]
  },
  {
   "cell_type": "code",
   "execution_count": 51,
   "metadata": {},
   "outputs": [
    {
     "name": "stdout",
     "output_type": "stream",
     "text": [
      "Results without hyperparameter tuning\n",
      "Mean squared error 0.35517241379310344\n",
      "R2 Score 0.41317459381937494\n",
      "Accuracy of model 0.7068965517241379\n"
     ]
    }
   ],
   "source": [
    "model1.fit(xtrain1, ytrain1)\n",
    "ypred1 = model1.predict(xtest1)\n",
    "score1 = model1.score(xtest1, ytest1)\n",
    "print(\"Results without hyperparameter tuning\")\n",
    "print(f\"Mean squared error {metrics.mean_squared_error(ytest1, ypred1)}\")\n",
    "print(f\"R2 Score {metrics.r2_score(ytest1, ypred1)}\")\n",
    "print(f\"Accuracy of model {model1.score(xtest1, ytest1)}\")"
   ]
  },
  {
   "cell_type": "markdown",
   "metadata": {},
   "source": [
    "### Feature 2: 'volatile acidity','alcohol'"
   ]
  },
  {
   "cell_type": "code",
   "execution_count": 52,
   "metadata": {},
   "outputs": [
    {
     "name": "stdout",
     "output_type": "stream",
     "text": [
      "Results without hyperparameter tuning\n",
      "Mean squared error 0.6241379310344828\n",
      "R2 Score -0.03121746134653547\n",
      "Accuracy of model 0.6\n"
     ]
    }
   ],
   "source": [
    "## without any hyperparamter trying to check the accuracy of the model\n",
    "model2.fit(xtrain2, ytrain2)\n",
    "ypred2 = model2.predict(xtest2)\n",
    "score2 = model2.score(xtest2, ytest2)\n",
    "print(\"Results without hyperparameter tuning\")\n",
    "print(f\"Mean squared error {metrics.mean_squared_error(ytest2, ypred2)}\")\n",
    "print(f\"R2 Score {metrics.r2_score(ytest2, ypred2)}\")\n",
    "print(f\"Accuracy of model {model2.score(xtest2, ytest2)}\")"
   ]
  },
  {
   "cell_type": "code",
   "execution_count": 53,
   "metadata": {},
   "outputs": [
    {
     "name": "stdout",
     "output_type": "stream",
     "text": [
      "0.7241379310344828 0.7068965517241379 0.6\n"
     ]
    }
   ],
   "source": [
    "print(score,score1,score2)"
   ]
  },
  {
   "cell_type": "code",
   "execution_count": 54,
   "metadata": {},
   "outputs": [
    {
     "data": {
      "image/png": "[encoded data removed]",
      "text/plain": [
       "<Figure size 432x288 with 1 Axes>"
      ]
     },
     "metadata": {
      "needs_background": "light"
     },
     "output_type": "display_data"
    }
   ],
   "source": [
    "x = ['All Features','4 Features','2 Features']\n",
    "y = [score,score1,score2] \n",
    "y1 = []\n",
    "for i in y:\n",
    "    y1.append('{0:.3g}'.format(i))\n",
    "plt.xlabel('Features')\n",
    "plt.ylabel('Accuracy Score')\n",
    "plt.title(\" Random Forest\")\n",
    "plt.yscale('log')\n",
    "plt.bar(x[0],y[0], width = 0.4,color = 'black', label = y1[0])\n",
    "plt.bar(x[1],y[1], width = 0.4,color = 'blue', label = y1[1])\n",
    "plt.bar(x[2],y[2], width = 0.4,color = 'red', label = y1[2])\n",
    "\n",
    "plt.legend()\n",
    "#plt.savefig(loc + \"rf_accuracy.png\" , dpi =150, bbox_inches='tight', facecolor = 'white')"
   ]
  },
  {
   "cell_type": "markdown",
   "metadata": {},
   "source": [
    "#### Considering the accuracy to be highest i.e. 0.724 when using all the features, we will be proceeding by choosing all the features. Also we will try hyperparameter optimisation for training set to be all the features"
   ]
  },
  {
   "cell_type": "markdown",
   "metadata": {},
   "source": [
    "## Grid Search CV for Hyperparameter"
   ]
  },
  {
   "cell_type": "code",
   "execution_count": 28,
   "metadata": {},
   "outputs": [
    {
     "name": "stdout",
     "output_type": "stream",
     "text": [
      "Best Parameters using Grid search: \n",
      " {'bootstrap': True, 'criterion': 'gini', 'max_depth': 20, 'max_features': None}\n"
     ]
    }
   ],
   "source": [
    "# Using grid search cv to tune the hyperparamter\n",
    "# Obtaining the parameters to optimise the model\n",
    "param_dist = {'max_depth':[20,40,80],\n",
    "             'bootstrap':[True,False],\n",
    "             'max_features':['auto','sqrt','log2',None],\n",
    "             'criterion':['gini','entropy']}\n",
    "\n",
    "cv_rf = GridSearchCV(model,cv=6,param_grid=param_dist,n_jobs=-1)\n",
    "cv_rf.fit(xtrain,ytrain)\n",
    "print('Best Parameters using Grid search: \\n',cv_rf.best_params_)"
   ]
  },
  {
   "cell_type": "code",
   "execution_count": 29,
   "metadata": {},
   "outputs": [
    {
     "data": {
      "text/plain": [
       "RandomForestClassifier(max_depth=20, random_state=2)"
      ]
     },
     "execution_count": 29,
     "metadata": {},
     "output_type": "execute_result"
    }
   ],
   "source": [
    "# Setting the parameters obtained through grid search cv\n",
    "model.set_params(bootstrap = True, criterion='gini',max_depth = 20, max_features = None)"
   ]
  },
  {
   "cell_type": "code",
   "execution_count": 30,
   "metadata": {},
   "outputs": [
    {
     "name": "stderr",
     "output_type": "stream",
     "text": [
      "/home/ashish/.local/lib/python3.8/site-packages/sklearn/ensemble/_forest.py:368: UserWarning: Warm-start fitting without increasing n_estimators does not fit new trees.\n",
      "  warn(\"Warm-start fitting without increasing n_estimators does not \"\n"
     ]
    }
   ],
   "source": [
    "# Trying to estimate oob error \n",
    "model.set_params(warm_start=True, \n",
    "                  oob_score=True)\n",
    "\n",
    "min_estimators = 100\n",
    "max_estimators = 1000\n",
    "\n",
    "error_rate = {}\n",
    "\n",
    "for i in range(min_estimators, max_estimators + 1):\n",
    "    model.set_params(n_estimators=i)\n",
    "    model.fit(xtrain, ytrain)\n",
    "\n",
    "    oob_error = 1 - model.oob_score_\n",
    "    error_rate[i] = oob_error"
   ]
  },
  {
   "cell_type": "code",
   "execution_count": 31,
   "metadata": {},
   "outputs": [],
   "source": [
    "# Converting oob error into a series\n",
    "oob_series = pd.Series(error_rate)"
   ]
  },
  {
   "cell_type": "code",
   "execution_count": 32,
   "metadata": {},
   "outputs": [
    {
     "data": {
      "text/plain": [
       "Text(0.5, 1.0, 'OOB Error Rate Across various Forest sizes \\n(From 100 to 1000 Trees)')"
      ]
     },
     "execution_count": 32,
     "metadata": {},
     "output_type": "execute_result"
    },
    {
     "data": {
      "image/png": "[encoded data removed]",
      "text/plain": [
       "<Figure size 720x432 with 1 Axes>"
      ]
     },
     "metadata": {
      "needs_background": "light"
     },
     "output_type": "display_data"
    }
   ],
   "source": [
    "# Plotting oob error to determine where our model is accurate and robust\n",
    "fig, ax = plt.subplots(figsize=(10,6))\n",
    "\n",
    "ax.set_facecolor('#fafafa')\n",
    "\n",
    "oob_series.plot(kind='line',color = 'red')\n",
    "plt.xlabel('n_estimators')\n",
    "plt.ylabel('OOB Error Rate')\n",
    "plt.title('OOB Error Rate Across various Forest sizes \\n(From 100 to 1000 Trees)')"
   ]
  },
  {
   "cell_type": "code",
   "execution_count": 33,
   "metadata": {},
   "outputs": [
    {
     "data": {
      "text/plain": [
       "RandomForestClassifier(bootstrap=False, max_depth=20, n_estimators=400,\n",
       "                       random_state=2)"
      ]
     },
     "execution_count": 33,
     "metadata": {},
     "output_type": "execute_result"
    }
   ],
   "source": [
    "# setting n_estimators as 550, as it provides us a robust and accurate model\n",
    "model.set_params(n_estimators=400,bootstrap=False,warm_start=False,oob_score=False)"
   ]
  },
  {
   "cell_type": "code",
   "execution_count": 34,
   "metadata": {},
   "outputs": [
    {
     "data": {
      "text/plain": [
       "RandomForestClassifier(bootstrap=False, max_depth=20, n_estimators=400,\n",
       "                       random_state=2)"
      ]
     },
     "execution_count": 34,
     "metadata": {},
     "output_type": "execute_result"
    }
   ],
   "source": [
    "# fitting the model with training data\n",
    "model.fit(xtrain,ytrain)"
   ]
  },
  {
   "cell_type": "code",
   "execution_count": 35,
   "metadata": {},
   "outputs": [],
   "source": [
    "# predicting using xtest\n",
    "predictions_rf = model.predict(xtest)\n",
    "ypred_rf = predictions_rf"
   ]
  },
  {
   "cell_type": "code",
   "execution_count": 36,
   "metadata": {},
   "outputs": [
    {
     "name": "stdout",
     "output_type": "stream",
     "text": [
      "Results after hyperparameter tuning\n",
      "Mean squared error 0.40344827586206894\n",
      "R2 Score 0.3334119172511346\n",
      "Accuracy of model 0.7172413793103448\n"
     ]
    }
   ],
   "source": [
    "# Estimating the accuracy, mean squared error, R2 score\n",
    "accuracy_rf = model.score(xtest,ytest)\n",
    "print(\"Results after hyperparameter tuning\")\n",
    "print(f\"Mean squared error {metrics.mean_squared_error(ytest, ypred_rf)}\")\n",
    "print(f\"R2 Score {metrics.r2_score(ytest, ypred_rf)}\")\n",
    "print(f\"Accuracy of model {model.score(xtest, ytest)}\")\n"
   ]
  },
  {
   "cell_type": "markdown",
   "metadata": {},
   "source": [
    "### This model gives a 71.724% accuracy after hyperparameter tuning.\n",
    "### Earlier the accuracy without hyperparameter tuning was 72.41% but the model wasn't robust.\n",
    "### One can conclude robustness of this model from the OOB graph"
   ]
  },
  {
   "cell_type": "code",
   "execution_count": 37,
   "metadata": {},
   "outputs": [
    {
     "name": "stdout",
     "output_type": "stream",
     "text": [
      "1. The feature 'alcohol' has a Mean Decrease in Impurity of 0.14493\n",
      "2. The feature 'sulphates' has a Mean Decrease in Impurity of 0.10992\n",
      "3. The feature 'total sulfur dioxide' has a Mean Decrease in Impurity of 0.10871\n",
      "4. The feature 'volatile acidity' has a Mean Decrease in Impurity of 0.09464\n",
      "5. The feature 'density' has a Mean Decrease in Impurity of 0.09184\n",
      "6. The feature 'chlorides' has a Mean Decrease in Impurity of 0.08506\n",
      "7. The feature 'citric acid' has a Mean Decrease in Impurity of 0.07576\n",
      "8. The feature 'fixed acidity' has a Mean Decrease in Impurity of 0.07543\n",
      "9. The feature 'pH' has a Mean Decrease in Impurity of 0.07451\n",
      "10. The feature 'residual sugar' has a Mean Decrease in Impurity of 0.07161\n",
      "11. The feature 'free sulfur dioxide' has a Mean Decrease in Impurity of 0.06760\n"
     ]
    }
   ],
   "source": [
    "# Trying to estimate the importance of variable by using mean decrease in impurity\n",
    "\n",
    "names_index = data.columns[data.columns != \"quality\" ]\n",
    "importances = model.feature_importances_\n",
    "indices = np.argsort(importances)[::-1]\n",
    "dic = {'importance': importances,\n",
    "            'index': indices} \n",
    "importance = dic['importance']\n",
    "for f in range(0, indices.shape[0]):\n",
    "        i = f\n",
    "        print(\"{0}. The feature '{1}' has a Mean Decrease in Impurity of {2:.5f}\"\n",
    "              .format(f + 1,\n",
    "                      names_index[indices[i]],\n",
    "                      importance[indices[f]]))"
   ]
  },
  {
   "cell_type": "code",
   "execution_count": 38,
   "metadata": {},
   "outputs": [],
   "source": [
    "# calculating confusion matrix for 3,4,5,6,7,8 ratings\n",
    "cm = confusion_matrix(ytest, ypred_rf)\n",
    "cm_df = pd.DataFrame(cm,\n",
    "                     index = ['3','4','5','6','7', '8'], \n",
    "                     columns = ['3','4','5','6','7', '8'])\n"
   ]
  },
  {
   "cell_type": "code",
   "execution_count": 64,
   "metadata": {},
   "outputs": [
    {
     "data": {
      "image/png": "[encoded data removed]",
      "text/plain": [
       "<Figure size 720x432 with 1 Axes>"
      ]
     },
     "metadata": {
      "needs_background": "light"
     },
     "output_type": "display_data"
    }
   ],
   "source": [
    "# Plotting confusion matrix for 3,4,5,6,7,8 ratings\n",
    "\n",
    "plt.figure(figsize=(10,6))\n",
    "sns.heatmap(cm_df, annot=True,fmt='d', cbar=False)\n",
    "plt.title('Confusion Matrix')\n",
    "plt.ylabel('Actal Values')\n",
    "plt.xlabel('Predicted Values')\n",
    "plt.savefig(loc + \"rf_confusion.png\" , dpi =150, bbox_inches='tight', facecolor = 'white')"
   ]
  },
  {
   "cell_type": "markdown",
   "metadata": {},
   "source": [
    "# ADA Boost Clasifier"
   ]
  },
  {
   "cell_type": "code",
   "execution_count": 56,
   "metadata": {},
   "outputs": [],
   "source": [
    "# Using ADA boost to determine the accuracy\n",
    "ada_boost = AdaBoostClassifier(DecisionTreeClassifier(max_depth=12),random_state=2)\n",
    "ada_boost1 = AdaBoostClassifier(DecisionTreeClassifier(max_depth=12),random_state=3)\n",
    "ada_boost2 = AdaBoostClassifier(DecisionTreeClassifier(max_depth=12),random_state=4)\n"
   ]
  },
  {
   "cell_type": "markdown",
   "metadata": {},
   "source": [
    "### Without Hyperparameter Tuning"
   ]
  },
  {
   "cell_type": "markdown",
   "metadata": {},
   "source": [
    "### All Features"
   ]
  },
  {
   "cell_type": "code",
   "execution_count": 57,
   "metadata": {},
   "outputs": [
    {
     "name": "stdout",
     "output_type": "stream",
     "text": [
      "Results without hyperparameter tuning\n",
      "Mean squared error 0.3758620689655172\n",
      "R2 Score 0.3789905895758433\n",
      "Accuracy of model 0.7379310344827587\n"
     ]
    }
   ],
   "source": [
    "# Training model without hyperparamter tuning and calculating accuracy\n",
    "ada_boost.fit(xtrain, ytrain)\n",
    "\n",
    "ypred_ada = ada_boost.predict(xtest)\n",
    "\n",
    "score_ada = ada_boost.score(xtest, ytest)\n",
    "print(\"Results without hyperparameter tuning\")\n",
    "print(f\"Mean squared error {metrics.mean_squared_error(ytest, ypred)}\")\n",
    "print(f\"R2 Score {metrics.r2_score(ytest, ypred)}\")\n",
    "print(f\"Accuracy of model {ada_boost.score(xtest, ytest)}\")\n",
    "    "
   ]
  },
  {
   "cell_type": "markdown",
   "metadata": {},
   "source": [
    "### Feature 1:  'volatile acidity','sulphates', 'citric acid', 'alcohol'"
   ]
  },
  {
   "cell_type": "code",
   "execution_count": 58,
   "metadata": {},
   "outputs": [
    {
     "name": "stdout",
     "output_type": "stream",
     "text": [
      "Results without hyperparameter tuning\n",
      "Mean squared error 0.3758620689655172\n",
      "R2 Score 0.3789905895758433\n",
      "Accuracy of model 0.7275862068965517\n"
     ]
    }
   ],
   "source": [
    "ada_boost1.fit(xtrain1, ytrain)\n",
    "ypred_ada1 = ada_boost1.predict(xtest1)\n",
    "score_ada1 = ada_boost1.score(xtest1, ytest1)\n",
    "print(\"Results without hyperparameter tuning\")\n",
    "print(f\"Mean squared error {metrics.mean_squared_error(ytest, ypred)}\")\n",
    "print(f\"R2 Score {metrics.r2_score(ytest, ypred)}\")\n",
    "print(f\"Accuracy of model {ada_boost1.score(xtest1, ytest)}\")"
   ]
  },
  {
   "cell_type": "markdown",
   "metadata": {},
   "source": [
    "### Feature 2: 'volatile acidity','alcohol'"
   ]
  },
  {
   "cell_type": "code",
   "execution_count": 59,
   "metadata": {},
   "outputs": [
    {
     "name": "stdout",
     "output_type": "stream",
     "text": [
      "Results without hyperparameter tuning\n",
      "Mean squared error 0.3758620689655172\n",
      "R2 Score 0.3789905895758433\n",
      "Accuracy of model 0.6103448275862069\n"
     ]
    }
   ],
   "source": [
    "# without any hyperparamter trying to check the accuracy of the model\n",
    "ada_boost2.fit(xtrain2, ytrain)\n",
    "ypred_ada2 = ada_boost2.predict(xtest2)\n",
    "score_ada2 = ada_boost2.score(xtest2, ytest2)\n",
    "print(\"Results without hyperparameter tuning\")\n",
    "print(f\"Mean squared error {metrics.mean_squared_error(ytest, ypred)}\")\n",
    "print(f\"R2 Score {metrics.r2_score(ytest, ypred)}\")\n",
    "print(f\"Accuracy of model {ada_boost2.score(xtest2, ytest)}\")"
   ]
  },
  {
   "cell_type": "code",
   "execution_count": 61,
   "metadata": {},
   "outputs": [
    {
     "data": {
      "image/png": "[encoded data removed]",
      "text/plain": [
       "<Figure size 432x288 with 1 Axes>"
      ]
     },
     "metadata": {
      "needs_background": "light"
     },
     "output_type": "display_data"
    }
   ],
   "source": [
    "# Plotting the accuracy for different combinations of feature values\n",
    "x = ['All Features','4 Features','2 Features']\n",
    "y_ada = [score_ada,score_ada1,score_ada2] \n",
    "y1_ada = []\n",
    "for i in y_ada:\n",
    "    y1_ada.append('{0:.3g}'.format(i))\n",
    "plt.xlabel('Features')\n",
    "plt.ylabel('Accuracy Score')\n",
    "plt.title(\"ADA Boost\")\n",
    "plt.yscale('log')\n",
    "plt.bar(x[0],y[0], width = 0.4,color = 'black', label = y1_ada[0])\n",
    "plt.bar(x[1],y[1], width = 0.4,color = 'blue', label = y1_ada[1])\n",
    "plt.bar(x[2],y[2], width = 0.4,color = 'red', label = y1_ada[2])\n",
    "plt.legend()\n",
    "plt.savefig(loc + \"ada_accuracy.png\" , dpi =150, bbox_inches='tight', facecolor = 'white')"
   ]
  },
  {
   "cell_type": "markdown",
   "metadata": {},
   "source": [
    "#### Considering the accuracy to be highest i.e. 0.738 when using all the features, we will be proceeding by choosing all the features. Also we will try hyperparameter optimisation for training set to be all the features"
   ]
  },
  {
   "cell_type": "markdown",
   "metadata": {},
   "source": [
    "## Grid Search CV: Hyperparameter Tuning"
   ]
  },
  {
   "cell_type": "code",
   "execution_count": 62,
   "metadata": {},
   "outputs": [
    {
     "name": "stdout",
     "output_type": "stream",
     "text": [
      "Best Parameters using Grid search: \n",
      " {'algorithm': 'SAMME.R', 'learning_rate': 1.1, 'n_estimators': 100}\n"
     ]
    }
   ],
   "source": [
    "# Using grid search cv to tune the hyperparamter\n",
    "# Obtaining the parameters to optimise the model\n",
    "param_dist = {'n_estimators':[20,40,80,100],\n",
    "             'learning_rate':[1.1,1.3, 1.5,1.7],\n",
    "             'algorithm': ['SAMME', 'SAMME.R']}\n",
    "\n",
    "cv_rf = GridSearchCV(ada_boost,cv=6,param_grid=param_dist,n_jobs=-1)\n",
    "cv_rf.fit(xtrain,ytrain)\n",
    "print('Best Parameters using Grid search: \\n',cv_rf.best_params_)"
   ]
  },
  {
   "cell_type": "code",
   "execution_count": 65,
   "metadata": {},
   "outputs": [
    {
     "data": {
      "text/plain": [
       "AdaBoostClassifier(base_estimator=DecisionTreeClassifier(max_depth=12),\n",
       "                   learning_rate=1.1, n_estimators=100, random_state=2)"
      ]
     },
     "execution_count": 65,
     "metadata": {},
     "output_type": "execute_result"
    }
   ],
   "source": [
    "# setting alorithm as SAMME, learning rate 1.1 and n-estimators = 80,\n",
    "# as it provides us a robust and accurate model\n",
    "\n",
    "ada_boost.set_params(algorithm  = \"SAMME.R\", learning_rate =1.1, n_estimators = 100)"
   ]
  },
  {
   "cell_type": "code",
   "execution_count": 66,
   "metadata": {},
   "outputs": [
    {
     "data": {
      "text/plain": [
       "AdaBoostClassifier(base_estimator=DecisionTreeClassifier(max_depth=12),\n",
       "                   learning_rate=1.1, n_estimators=100, random_state=2)"
      ]
     },
     "execution_count": 66,
     "metadata": {},
     "output_type": "execute_result"
    }
   ],
   "source": [
    "# fitting the model with training data\n",
    "\n",
    "ada_boost.fit(xtrain,ytrain)"
   ]
  },
  {
   "cell_type": "code",
   "execution_count": 67,
   "metadata": {},
   "outputs": [],
   "source": [
    "ypred_ada = ada_boost.predict(xtest)"
   ]
  },
  {
   "cell_type": "code",
   "execution_count": 68,
   "metadata": {},
   "outputs": [
    {
     "name": "stdout",
     "output_type": "stream",
     "text": [
      "Results after hyperparameter tuning\n",
      "Mean squared error 0.38620689655172413\n",
      "R2 Score 0.36189858745407755\n",
      "Accuracy of model 0.7344827586206897\n"
     ]
    }
   ],
   "source": [
    "accuracy_rf = ada_boost.score(xtest,ytest)\n",
    "print(\"Results after hyperparameter tuning\")\n",
    "print(f\"Mean squared error {metrics.mean_squared_error(ytest, ypred_ada)}\")\n",
    "print(f\"R2 Score {metrics.r2_score(ytest, ypred_ada)}\")\n",
    "print(f\"Accuracy of model {ada_boost.score(xtest, ytest)}\")\n"
   ]
  },
  {
   "cell_type": "markdown",
   "metadata": {},
   "source": [
    "### This model gives a 73.448% accuracy after hyperparameter tuning.\n",
    "### Earlier the accuracy without hyperparameter tuning was 73.79% but the model wasn't robust.\n"
   ]
  },
  {
   "cell_type": "code",
   "execution_count": 70,
   "metadata": {},
   "outputs": [],
   "source": [
    "# calculating confusion matrix for 3,4,5,6,7,8 ratings\n",
    "\n",
    "cm = confusion_matrix(ytest, ypred_ada)\n",
    "cm_df = pd.DataFrame(cm,\n",
    "                     index = ['3','4','5','6','7', '8'], \n",
    "                     columns = ['3','4','5','6','7', '8'])\n"
   ]
  },
  {
   "cell_type": "code",
   "execution_count": 71,
   "metadata": {},
   "outputs": [
    {
     "data": {
      "image/png": "[encoded data removed]",
      "text/plain": [
       "<Figure size 720x432 with 1 Axes>"
      ]
     },
     "metadata": {
      "needs_background": "light"
     },
     "output_type": "display_data"
    }
   ],
   "source": [
    "# Plotting confusion matrix for 3,4,5,6,7,8 ratings\n",
    "\n",
    "plt.figure(figsize=(10,6))\n",
    "sns.heatmap(cm_df, annot=True,fmt='d', cbar=False)\n",
    "plt.title('Confusion Matrix')\n",
    "plt.ylabel('Actal Values')\n",
    "plt.xlabel('Predicted Values')\n",
    "plt.savefig(loc + \"ada_accuracy.png\" , dpi =150, bbox_inches='tight', facecolor = 'white')\n",
    "plt.show()"
   ]
  },
  {
   "cell_type": "code",
   "execution_count": null,
   "metadata": {},
   "outputs": [],
   "source": []
  }
 ],
 "metadata": {
  "kernelspec": {
   "display_name": "Python 3",
   "language": "python",
   "name": "python3"
  },
  "language_info": {
   "codemirror_mode": {
    "name": "ipython",
    "version": 3
   },
   "file_extension": ".py",
   "mimetype": "text/x-python",
   "name": "python",
   "nbconvert_exporter": "python",
   "pygments_lexer": "ipython3",
   "version": "3.8.10"
  }
 },
 "nbformat": 4,
 "nbformat_minor": 4
}
